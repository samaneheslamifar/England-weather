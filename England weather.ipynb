{
 "cells": [
  {
   "cell_type": "code",
   "execution_count": 1,
   "id": "025ef211",
   "metadata": {},
   "outputs": [],
   "source": [
    "import pandas as pd\n",
    "import numpy as np\n",
    "import matplotlib.pyplot as plt"
   ]
  },
  {
   "cell_type": "code",
   "execution_count": 3,
   "id": "a8427b4b",
   "metadata": {},
   "outputs": [],
   "source": [
    "data = pd.read_csv(\"C:/data sets/EnglanddWeather.csv\")"
   ]
  },
  {
   "cell_type": "code",
   "execution_count": 4,
   "id": "e01615ad",
   "metadata": {
    "scrolled": true
   },
   "outputs": [
    {
     "data": {
      "text/html": [
       "<div>\n",
       "<style scoped>\n",
       "    .dataframe tbody tr th:only-of-type {\n",
       "        vertical-align: middle;\n",
       "    }\n",
       "\n",
       "    .dataframe tbody tr th {\n",
       "        vertical-align: top;\n",
       "    }\n",
       "\n",
       "    .dataframe thead th {\n",
       "        text-align: right;\n",
       "    }\n",
       "</style>\n",
       "<table border=\"1\" class=\"dataframe\">\n",
       "  <thead>\n",
       "    <tr style=\"text-align: right;\">\n",
       "      <th></th>\n",
       "      <th>Formatted</th>\n",
       "      <th>Date</th>\n",
       "      <th>Unnamed: 2</th>\n",
       "      <th>Temperature (C)</th>\n",
       "      <th>Wind Speed (km/h)</th>\n",
       "      <th>Pressure (millibars)</th>\n",
       "      <th>Humidity</th>\n",
       "    </tr>\n",
       "  </thead>\n",
       "  <tbody>\n",
       "    <tr>\n",
       "      <th>0</th>\n",
       "      <td>4/1/2006</td>\n",
       "      <td>00:00.0</td>\n",
       "      <td>200</td>\n",
       "      <td>9.472222222</td>\n",
       "      <td>14.1197</td>\n",
       "      <td>1015.13</td>\n",
       "      <td>0.89</td>\n",
       "    </tr>\n",
       "    <tr>\n",
       "      <th>1</th>\n",
       "      <td>4/1/2006</td>\n",
       "      <td>00:00.0</td>\n",
       "      <td>200</td>\n",
       "      <td>9.355555556</td>\n",
       "      <td>14.2646</td>\n",
       "      <td>1015.63</td>\n",
       "      <td>0.86</td>\n",
       "    </tr>\n",
       "    <tr>\n",
       "      <th>2</th>\n",
       "      <td>4/1/2006</td>\n",
       "      <td>00:00.0</td>\n",
       "      <td>200</td>\n",
       "      <td>9.377777778</td>\n",
       "      <td>3.9284</td>\n",
       "      <td>1015.94</td>\n",
       "      <td>0.89</td>\n",
       "    </tr>\n",
       "    <tr>\n",
       "      <th>3</th>\n",
       "      <td>4/1/2006</td>\n",
       "      <td>00:00.0</td>\n",
       "      <td>200</td>\n",
       "      <td>8.288888889</td>\n",
       "      <td>14.1036</td>\n",
       "      <td>1016.41</td>\n",
       "      <td>0.83</td>\n",
       "    </tr>\n",
       "    <tr>\n",
       "      <th>4</th>\n",
       "      <td>4/1/2006</td>\n",
       "      <td>00:00.0</td>\n",
       "      <td>200</td>\n",
       "      <td>8.755555556</td>\n",
       "      <td>11.0446</td>\n",
       "      <td>1016.51</td>\n",
       "      <td>0.83</td>\n",
       "    </tr>\n",
       "    <tr>\n",
       "      <th>...</th>\n",
       "      <td>...</td>\n",
       "      <td>...</td>\n",
       "      <td>...</td>\n",
       "      <td>...</td>\n",
       "      <td>...</td>\n",
       "      <td>...</td>\n",
       "      <td>...</td>\n",
       "    </tr>\n",
       "    <tr>\n",
       "      <th>96448</th>\n",
       "      <td>9/9/2016</td>\n",
       "      <td>00:00.0</td>\n",
       "      <td>200</td>\n",
       "      <td>26.01666667</td>\n",
       "      <td>10.9963</td>\n",
       "      <td>1014.36</td>\n",
       "      <td>0.43</td>\n",
       "    </tr>\n",
       "    <tr>\n",
       "      <th>96449</th>\n",
       "      <td>9/9/2016</td>\n",
       "      <td>00:00.0</td>\n",
       "      <td>200</td>\n",
       "      <td>24.58333333</td>\n",
       "      <td>10.0947</td>\n",
       "      <td>1015.16</td>\n",
       "      <td>0.48</td>\n",
       "    </tr>\n",
       "    <tr>\n",
       "      <th>96450</th>\n",
       "      <td>9/9/2016</td>\n",
       "      <td>00:00.0</td>\n",
       "      <td>200</td>\n",
       "      <td>22.03888889</td>\n",
       "      <td>8.9838</td>\n",
       "      <td>1015.66</td>\n",
       "      <td>0.56</td>\n",
       "    </tr>\n",
       "    <tr>\n",
       "      <th>96451</th>\n",
       "      <td>9/9/2016</td>\n",
       "      <td>00:00.0</td>\n",
       "      <td>200</td>\n",
       "      <td>21.52222222</td>\n",
       "      <td>10.5294</td>\n",
       "      <td>1015.95</td>\n",
       "      <td>0.60</td>\n",
       "    </tr>\n",
       "    <tr>\n",
       "      <th>96452</th>\n",
       "      <td>9/9/2016</td>\n",
       "      <td>00:00.0</td>\n",
       "      <td>200</td>\n",
       "      <td>20.43888889</td>\n",
       "      <td>5.8765</td>\n",
       "      <td>1016.16</td>\n",
       "      <td>0.61</td>\n",
       "    </tr>\n",
       "  </tbody>\n",
       "</table>\n",
       "<p>96453 rows × 7 columns</p>\n",
       "</div>"
      ],
      "text/plain": [
       "      Formatted     Date  Unnamed: 2 Temperature (C)  Wind Speed (km/h)  \\\n",
       "0      4/1/2006  00:00.0         200     9.472222222            14.1197   \n",
       "1      4/1/2006  00:00.0         200     9.355555556            14.2646   \n",
       "2      4/1/2006  00:00.0         200     9.377777778             3.9284   \n",
       "3      4/1/2006  00:00.0         200     8.288888889            14.1036   \n",
       "4      4/1/2006  00:00.0         200     8.755555556            11.0446   \n",
       "...         ...      ...         ...             ...                ...   \n",
       "96448  9/9/2016  00:00.0         200     26.01666667            10.9963   \n",
       "96449  9/9/2016  00:00.0         200     24.58333333            10.0947   \n",
       "96450  9/9/2016  00:00.0         200     22.03888889             8.9838   \n",
       "96451  9/9/2016  00:00.0         200     21.52222222            10.5294   \n",
       "96452  9/9/2016  00:00.0         200     20.43888889             5.8765   \n",
       "\n",
       "       Pressure (millibars)  Humidity  \n",
       "0                   1015.13      0.89  \n",
       "1                   1015.63      0.86  \n",
       "2                   1015.94      0.89  \n",
       "3                   1016.41      0.83  \n",
       "4                   1016.51      0.83  \n",
       "...                     ...       ...  \n",
       "96448               1014.36      0.43  \n",
       "96449               1015.16      0.48  \n",
       "96450               1015.66      0.56  \n",
       "96451               1015.95      0.60  \n",
       "96452               1016.16      0.61  \n",
       "\n",
       "[96453 rows x 7 columns]"
      ]
     },
     "execution_count": 4,
     "metadata": {},
     "output_type": "execute_result"
    }
   ],
   "source": [
    "df= pd.DataFrame(data)\n",
    "df\n"
   ]
  },
  {
   "cell_type": "code",
   "execution_count": 5,
   "id": "1c44447c",
   "metadata": {},
   "outputs": [],
   "source": [
    "df = df.rename(columns={'Temperature (C)': 'Temperature'})"
   ]
  },
  {
   "cell_type": "code",
   "execution_count": 7,
   "id": "9dd05faf",
   "metadata": {},
   "outputs": [],
   "source": [
    "df = df.rename(columns={'Formatted': 'date'})"
   ]
  },
  {
   "cell_type": "code",
   "execution_count": 8,
   "id": "ca1574c7",
   "metadata": {},
   "outputs": [],
   "source": [
    "df = df.rename(columns={'Date': 'time'})"
   ]
  },
  {
   "cell_type": "code",
   "execution_count": 9,
   "id": "1ddbd000",
   "metadata": {},
   "outputs": [],
   "source": [
    "df = df.rename(columns={'Unnamed: 2': 'greenvich'})"
   ]
  },
  {
   "cell_type": "code",
   "execution_count": 11,
   "id": "8a0afa56",
   "metadata": {},
   "outputs": [
    {
     "data": {
      "text/plain": [
       "<AxesSubplot:ylabel='count'>"
      ]
     },
     "execution_count": 11,
     "metadata": {},
     "output_type": "execute_result"
    },
    {
     "data": {
      "image/png": "[encoded data removed]",
      "text/plain": [
       "<Figure size 432x288 with 1 Axes>"
      ]
     },
     "metadata": {
      "needs_background": "light"
     },
     "output_type": "display_data"
    }
   ],
   "source": [
    "import seaborn as sns\n",
    "sns.countplot(x=['date'])"
   ]
  },
  {
   "cell_type": "code",
   "execution_count": 16,
   "id": "9a3f2e0b",
   "metadata": {},
   "outputs": [],
   "source": [
    "year=pd.to_datetime(df.date).dt.year"
   ]
  },
  {
   "cell_type": "code",
   "execution_count": 17,
   "id": "cb70fd53",
   "metadata": {},
   "outputs": [
    {
     "data": {
      "text/plain": [
       "<AxesSubplot:xlabel='date', ylabel='count'>"
      ]
     },
     "execution_count": 17,
     "metadata": {},
     "output_type": "execute_result"
    },
    {
     "data": {
      "image/png": "[encoded data removed]",
      "text/plain": [
       "<Figure size 432x288 with 1 Axes>"
      ]
     },
     "metadata": {
      "needs_background": "light"
     },
     "output_type": "display_data"
    }
   ],
   "source": [
    "import seaborn as sns\n",
    "sns.countplot(x=year)"
   ]
  },
  {
   "cell_type": "code",
   "execution_count": 21,
   "id": "3991415e",
   "metadata": {},
   "outputs": [
    {
     "data": {
      "image/png": "[encoded data removed]",
      "text/plain": [
       "<Figure size 432x288 with 1 Axes>"
      ]
     },
     "metadata": {
      "needs_background": "light"
     },
     "output_type": "display_data"
    }
   ],
   "source": [
    "import pandas as pd\n",
    "import numpy as np\n",
    "import matplotlib.pyplot as plt\n",
    "data = pd.read_csv(\"C:/data sets/EnglanddWeather.csv\")\n",
    "df= pd.DataFrame(data)\n",
    "df\n",
    "plt.bar(df['Wind Speed (km/h)'],df['Humidity'])\n",
    "\n",
    "plt.xlabel('wind')\n",
    "plt.ylabel('Humidity')\n",
    "plt.grid()\n",
    "plt.show()\n"
   ]
  },
  {
   "cell_type": "code",
   "execution_count": null,
   "id": "84e4c419",
   "metadata": {},
   "outputs": [],
   "source": []
  }
 ],
 "metadata": {
  "kernelspec": {
   "display_name": "Python 3",
   "language": "python",
   "name": "python3"
  },
  "language_info": {
   "codemirror_mode": {
    "name": "ipython",
    "version": 3
   },
   "file_extension": ".py",
   "mimetype": "text/x-python",
   "name": "python",
   "nbconvert_exporter": "python",
   "pygments_lexer": "ipython3",
   "version": "3.8.8"
  }
 },
 "nbformat": 4,
 "nbformat_minor": 5
}
